{
 "cells": [
  {
   "cell_type": "code",
   "execution_count": 1,
   "metadata": {},
   "outputs": [
    {
     "name": "stdout",
     "output_type": "stream",
     "text": [
      "@@ Importing mplstyle from /Users/jskim/lib/icarusplot//icarus_style.mplstyle\n"
     ]
    }
   ],
   "source": [
    "import uproot\n",
    "import pandas as pd\n",
    "import numpy as np\n",
    "import matplotlib.pyplot as plt\n",
    "import icarusplot"
   ]
  },
  {
   "cell_type": "code",
   "execution_count": 2,
   "metadata": {},
   "outputs": [],
   "source": [
    "WD = '/Users/jskim/Documents/Neutrino/ICARUS/GUNDAM-1.9.X/work'"
   ]
  },
  {
   "cell_type": "code",
   "execution_count": 3,
   "metadata": {},
   "outputs": [],
   "source": [
    "np.set_printoptions(precision=4, suppress=True)"
   ]
  },
  {
   "cell_type": "code",
   "execution_count": 4,
   "metadata": {},
   "outputs": [],
   "source": [
    "# Number of total variable bin\n",
    "NBins = 8\n",
    "\n",
    "# Total number of bins from the first to regularize\n",
    "NBinsToReg = 0\n",
    "# Bins to add diagonal at the end\n",
    "NBinsToExtend = NBins - NBinsToReg\n",
    "\n",
    "# Regularization strength in log_10 (tau)\n",
    "Strength = 0.00\n",
    "\n",
    "# Prior for the error; templates becomes 1 +- PriorError \n",
    "# PriorError = 1.0\n",
    "# PriorError = 0.20\n",
    "# PriorError = 0.50\n",
    "PriorError = 0.4\n",
    "\n",
    "# PriorError_LoW = 1.0\n",
    "# PriorError_HiW = 1.0\n",
    "\n",
    "# PriorError_LoW = 0.4\n",
    "# PriorError_HiW = 0.4\n",
    "\n",
    "PriorError_LoW = 0.4\n",
    "PriorError_HiW = 0.6\n",
    "\n"
   ]
  },
  {
   "cell_type": "code",
   "execution_count": 5,
   "metadata": {},
   "outputs": [
    {
     "name": "stdout",
     "output_type": "stream",
     "text": [
      "RegCov_Bins0Plus8_StrengthTenToThe0.00_PriorLoW0.4_PriorHiW0.6\n"
     ]
    }
   ],
   "source": [
    "# CovName = f'RegCov_Bins{NBinsToReg}Plus{NBinsToExtend}_StrengthTenToThe{Strength:.2f}_Prior{PriorError:.1f}'\n",
    "CovName = f'RegCov_Bins{NBinsToReg}Plus{NBinsToExtend}_StrengthTenToThe{Strength:.2f}_PriorLoW{PriorError_LoW:.1f}_PriorHiW{PriorError_HiW:.1f}'\n",
    "\n",
    "print(CovName)"
   ]
  },
  {
   "cell_type": "code",
   "execution_count": 6,
   "metadata": {},
   "outputs": [
    {
     "name": "stdout",
     "output_type": "stream",
     "text": [
      "Tau = 1.0\n"
     ]
    }
   ],
   "source": [
    "Tau = (10**Strength)\n",
    "print(f'Tau = {Tau}')"
   ]
  },
  {
   "cell_type": "code",
   "execution_count": 7,
   "metadata": {},
   "outputs": [
    {
     "name": "stdout",
     "output_type": "stream",
     "text": [
      "C_reg_Inv:\n",
      " [[0. 0. 0. 0. 0. 0. 0. 0.]\n",
      " [0. 0. 0. 0. 0. 0. 0. 0.]\n",
      " [0. 0. 0. 0. 0. 0. 0. 0.]\n",
      " [0. 0. 0. 0. 0. 0. 0. 0.]\n",
      " [0. 0. 0. 0. 0. 0. 0. 0.]\n",
      " [0. 0. 0. 0. 0. 0. 0. 0.]\n",
      " [0. 0. 0. 0. 0. 0. 0. 0.]\n",
      " [0. 0. 0. 0. 0. 0. 0. 0.]]\n"
     ]
    }
   ],
   "source": [
    "C_reg_Inv = np.zeros((NBins, NBins))\n",
    "\n",
    "for i_x in range(NBinsToReg):\n",
    "    for i_y in range(NBinsToReg):\n",
    "        ThisValue = 0.\n",
    "        if i_x==i_y:\n",
    "            if i_x==0:\n",
    "                ThisValue = 1.\n",
    "            elif i_x==NBinsToReg-1:\n",
    "                ThisValue = 1.\n",
    "            else:\n",
    "                ThisValue = 2.\n",
    "        elif abs(i_x-i_y)==1:\n",
    "            ThisValue = -1.\n",
    "        C_reg_Inv[i_x][i_y] = ThisValue\n",
    "\n",
    "# for i_x in range(NBinsToExtend):\n",
    "#     ii_x = NBinsToReg + i_x\n",
    "#     C_reg_Inv[ii_x][ii_x] = 1.\n",
    "print('C_reg_Inv:\\n', C_reg_Inv)"
   ]
  },
  {
   "cell_type": "code",
   "execution_count": 8,
   "metadata": {},
   "outputs": [
    {
     "name": "stdout",
     "output_type": "stream",
     "text": [
      "C_diag_Inv:\n",
      " [[0.16 0.   0.   0.   0.   0.   0.   0.  ]\n",
      " [0.   0.16 0.   0.   0.   0.   0.   0.  ]\n",
      " [0.   0.   0.16 0.   0.   0.   0.   0.  ]\n",
      " [0.   0.   0.   0.16 0.   0.   0.   0.  ]\n",
      " [0.   0.   0.   0.   0.16 0.   0.   0.  ]\n",
      " [0.   0.   0.   0.   0.   0.16 0.   0.  ]\n",
      " [0.   0.   0.   0.   0.   0.   0.16 0.  ]\n",
      " [0.   0.   0.   0.   0.   0.   0.   0.16]]\n"
     ]
    }
   ],
   "source": [
    "C_diag_Inv = np.ndarray((NBins, NBins))\n",
    "\n",
    "for i_x in range(NBins):\n",
    "    for i_y in range(NBins):\n",
    "        ThisValue = 0.\n",
    "        if i_x==i_y:\n",
    "            ThisValue = PriorError*PriorError\n",
    "        C_diag_Inv[i_x][i_y] = ThisValue\n",
    "print('C_diag_Inv:\\n', C_diag_Inv)"
   ]
  },
  {
   "cell_type": "code",
   "execution_count": 9,
   "metadata": {},
   "outputs": [],
   "source": [
    "C_Inv = (10**Strength) * C_reg_Inv + C_diag_Inv"
   ]
  },
  {
   "cell_type": "code",
   "execution_count": 10,
   "metadata": {},
   "outputs": [
    {
     "name": "stdout",
     "output_type": "stream",
     "text": [
      "C_Inv:\n",
      " [[0.16 0.   0.   0.   0.   0.   0.   0.  ]\n",
      " [0.   0.16 0.   0.   0.   0.   0.   0.  ]\n",
      " [0.   0.   0.16 0.   0.   0.   0.   0.  ]\n",
      " [0.   0.   0.   0.16 0.   0.   0.   0.  ]\n",
      " [0.   0.   0.   0.   0.16 0.   0.   0.  ]\n",
      " [0.   0.   0.   0.   0.   0.16 0.   0.  ]\n",
      " [0.   0.   0.   0.   0.   0.   0.16 0.  ]\n",
      " [0.   0.   0.   0.   0.   0.   0.   0.16]]\n"
     ]
    }
   ],
   "source": [
    "print('C_Inv:\\n', C_Inv)"
   ]
  },
  {
   "cell_type": "code",
   "execution_count": 11,
   "metadata": {},
   "outputs": [
    {
     "name": "stdout",
     "output_type": "stream",
     "text": [
      "C:\n",
      " [[6.25 0.   0.   0.   0.   0.   0.   0.  ]\n",
      " [0.   6.25 0.   0.   0.   0.   0.   0.  ]\n",
      " [0.   0.   6.25 0.   0.   0.   0.   0.  ]\n",
      " [0.   0.   0.   6.25 0.   0.   0.   0.  ]\n",
      " [0.   0.   0.   0.   6.25 0.   0.   0.  ]\n",
      " [0.   0.   0.   0.   0.   6.25 0.   0.  ]\n",
      " [0.   0.   0.   0.   0.   0.   6.25 0.  ]\n",
      " [0.   0.   0.   0.   0.   0.   0.   6.25]]\n"
     ]
    }
   ],
   "source": [
    "C = np.linalg.inv(C_Inv)\n",
    "print('C:\\n', C)"
   ]
  },
  {
   "cell_type": "code",
   "execution_count": 12,
   "metadata": {},
   "outputs": [
    {
     "name": "stdout",
     "output_type": "stream",
     "text": [
      "C_Corr:\n",
      " [[1. 0. 0. 0. 0. 0. 0. 0.]\n",
      " [0. 1. 0. 0. 0. 0. 0. 0.]\n",
      " [0. 0. 1. 0. 0. 0. 0. 0.]\n",
      " [0. 0. 0. 1. 0. 0. 0. 0.]\n",
      " [0. 0. 0. 0. 1. 0. 0. 0.]\n",
      " [0. 0. 0. 0. 0. 1. 0. 0.]\n",
      " [0. 0. 0. 0. 0. 0. 1. 0.]\n",
      " [0. 0. 0. 0. 0. 0. 0. 1.]]\n"
     ]
    }
   ],
   "source": [
    "# Modifying C to have diagnoal=1\n",
    "\n",
    "C_Corr = np.ndarray((NBins, NBins))\n",
    "\n",
    "for i_x in range(NBins):\n",
    "    for i_y in range(NBins):\n",
    "        if i_x==i_y:\n",
    "            C_Corr[i_x][i_y] = 1.\n",
    "        else:\n",
    "            C_Corr[i_x][i_y] /= np.sqrt(C[i_x][i_x] * C[i_y][i_y])\n",
    "            # C_Modified[i_x][i_y] = 0.\n",
    "\n",
    "print('C_Corr:\\n', C_Corr)"
   ]
  },
  {
   "cell_type": "code",
   "execution_count": 13,
   "metadata": {},
   "outputs": [
    {
     "name": "stdout",
     "output_type": "stream",
     "text": [
      "C_Renormed:\n",
      " [[0.16 0.   0.   0.   0.   0.   0.   0.  ]\n",
      " [0.   0.16 0.   0.   0.   0.   0.   0.  ]\n",
      " [0.   0.   0.16 0.   0.   0.   0.   0.  ]\n",
      " [0.   0.   0.   0.16 0.   0.   0.   0.  ]\n",
      " [0.   0.   0.   0.   0.16 0.   0.   0.  ]\n",
      " [0.   0.   0.   0.   0.   0.16 0.   0.  ]\n",
      " [0.   0.   0.   0.   0.   0.   0.16 0.  ]\n",
      " [0.   0.   0.   0.   0.   0.   0.   0.16]]\n"
     ]
    }
   ],
   "source": [
    "C_Renormed = C_Corr * (PriorError*PriorError)\n",
    "\n",
    "print('C_Renormed:\\n', C_Renormed)"
   ]
  },
  {
   "cell_type": "code",
   "execution_count": 14,
   "metadata": {},
   "outputs": [
    {
     "name": "stdout",
     "output_type": "stream",
     "text": [
      "[[0.16 0.   0.   0.   0.   0.   0.   0.  ]\n",
      " [0.   0.16 0.   0.   0.   0.   0.   0.  ]\n",
      " [0.   0.   0.16 0.   0.   0.   0.   0.  ]\n",
      " [0.   0.   0.   0.16 0.   0.   0.   0.  ]\n",
      " [0.   0.   0.   0.   0.16 0.   0.   0.  ]\n",
      " [0.   0.   0.   0.   0.   0.16 0.   0.  ]\n",
      " [0.   0.   0.   0.   0.   0.   0.16 0.  ]\n",
      " [0.   0.   0.   0.   0.   0.   0.   0.16]]\n",
      "[[0.36 0.   0.   0.   0.   0.   0.   0.  ]\n",
      " [0.   0.36 0.   0.   0.   0.   0.   0.  ]\n",
      " [0.   0.   0.36 0.   0.   0.   0.   0.  ]\n",
      " [0.   0.   0.   0.36 0.   0.   0.   0.  ]\n",
      " [0.   0.   0.   0.   0.36 0.   0.   0.  ]\n",
      " [0.   0.   0.   0.   0.   0.36 0.   0.  ]\n",
      " [0.   0.   0.   0.   0.   0.   0.36 0.  ]\n",
      " [0.   0.   0.   0.   0.   0.   0.   0.36]]\n"
     ]
    }
   ],
   "source": [
    "C_Renormed_LoW = C_Corr * (PriorError_LoW*PriorError_LoW)\n",
    "C_Renormed_HiW = C_Corr * (PriorError_HiW*PriorError_HiW)\n",
    "\n",
    "print(C_Renormed_LoW)\n",
    "print(C_Renormed_HiW)"
   ]
  },
  {
   "cell_type": "code",
   "execution_count": 15,
   "metadata": {},
   "outputs": [],
   "source": [
    "import ROOT\n",
    "\n",
    "NSet = 2\n",
    "\n",
    "OutputFileName = f'{CovName}_NSet{NSet}.root'\n",
    "f_out = ROOT.TFile(f'{WD}/Configs_ParameterSet/BackgroundFit/{OutputFileName}', 'RECREATE')\n",
    "\n",
    "h_Cov_TMat = ROOT.TMatrixDSym(NBins * NSet)\n",
    "\n",
    "for i_Set in range(NSet):\n",
    "\n",
    "    global_offset = i_Set * NBins\n",
    "\n",
    "    for i in range(NBins):\n",
    "        for j in range(NBins):\n",
    "\n",
    "            # h_Cov_TMat[i+global_offset][j+global_offset] = C_Renormed[i, j]\n",
    "\n",
    "            if i_Set==0:\n",
    "                h_Cov_TMat[i+global_offset][j+global_offset] = C_Renormed_LoW[i, j]\n",
    "            else:\n",
    "                h_Cov_TMat[i+global_offset][j+global_offset] = C_Renormed_HiW[i, j]\n",
    "\n",
    "h_Cov_TMat.SetTol(1E-20)\n",
    "\n",
    "h_Cov_TMat.Write(f'{CovName}_NSet{NSet}')\n",
    "\n",
    "f_out.cd()\n",
    "f_out.Close()"
   ]
  }
 ],
 "metadata": {
  "kernelspec": {
   "display_name": "Python 3",
   "language": "python",
   "name": "python3"
  },
  "language_info": {
   "codemirror_mode": {
    "name": "ipython",
    "version": 3
   },
   "file_extension": ".py",
   "mimetype": "text/x-python",
   "name": "python",
   "nbconvert_exporter": "python",
   "pygments_lexer": "ipython3",
   "version": "3.9.6"
  }
 },
 "nbformat": 4,
 "nbformat_minor": 2
}
