{
 "cells": [
  {
   "cell_type": "code",
   "execution_count": 1,
   "metadata": {},
   "outputs": [
    {
     "name": "stdout",
     "output_type": "stream",
     "text": [
      "@@ Importing mplstyle from /Users/jskim/lib/icarusplot//icarus_style.mplstyle\n"
     ]
    }
   ],
   "source": [
    "import uproot\n",
    "import pandas as pd\n",
    "import numpy as np\n",
    "import matplotlib.pyplot as plt\n",
    "import icarusplot"
   ]
  },
  {
   "cell_type": "code",
   "execution_count": 2,
   "metadata": {},
   "outputs": [],
   "source": [
    "WD = '/Users/jskim/Documents/Neutrino/ICARUS/GUNDAM-1.9.X/work'"
   ]
  },
  {
   "cell_type": "code",
   "execution_count": 3,
   "metadata": {},
   "outputs": [],
   "source": [
    "np.set_printoptions(precision=4, suppress=True)"
   ]
  },
  {
   "cell_type": "code",
   "execution_count": 4,
   "metadata": {},
   "outputs": [],
   "source": [
    "# Number of total variable bin\n",
    "NBins = 8\n",
    "\n",
    "# Total number of bins from the first to regularize\n",
    "NBinsToReg = 0\n",
    "# Bins to add diagonal at the end\n",
    "NBinsToExtend = NBins - NBinsToReg\n",
    "\n",
    "# Regularization strength in log_10 (tau)\n",
    "Strength = 0.00\n",
    "\n",
    "# Prior for the error; templates becomes 1 +- PriorError "
   ]
  },
  {
   "cell_type": "code",
   "execution_count": 5,
   "metadata": {},
   "outputs": [],
   "source": [
    "LoWRatios = [\n",
    "    1.45639, \n",
    "    1.20436,\n",
    "    1.14487,\n",
    "    1.09933,\n",
    "    1.08268,\n",
    "    1.0793,\n",
    "    1.01834,\n",
    "    1.02369,\n",
    "    # 0.992727,\n",
    "    # 0.979721,\n",
    "]\n",
    "HiWRatios = [\n",
    "    1.26145,\n",
    "    0.913779,\n",
    "    0.798007,\n",
    "    0.741797,\n",
    "    0.730018,\n",
    "    0.703575,\n",
    "    0.709838,\n",
    "    0.689741,\n",
    "    # 0.691756,\n",
    "    # 0.691577,\n",
    "]"
   ]
  },
  {
   "cell_type": "code",
   "execution_count": 6,
   "metadata": {},
   "outputs": [
    {
     "name": "stdout",
     "output_type": "stream",
     "text": [
      "[1.4564 1.2044 1.1449 1.0993 1.0827 1.0793 1.0183 1.0237 1.2614 0.9138\n",
      " 0.798  0.7418 0.73   0.7036 0.7098 0.6897]\n"
     ]
    }
   ],
   "source": [
    "AllWRatios = LoWRatios + HiWRatios\n",
    "AllWRatios = np.array(AllWRatios)\n",
    "print(AllWRatios)"
   ]
  },
  {
   "cell_type": "code",
   "execution_count": 7,
   "metadata": {},
   "outputs": [
    {
     "name": "stdout",
     "output_type": "stream",
     "text": [
      "[0.4564 0.2044 0.1449 0.0993 0.0827 0.0793 0.0183 0.0237 0.2614 0.0862\n",
      " 0.202  0.2582 0.27   0.2964 0.2902 0.3103]\n"
     ]
    }
   ],
   "source": [
    "OneSigErrors = np.abs(1-AllWRatios)\n",
    "print(OneSigErrors)"
   ]
  },
  {
   "cell_type": "code",
   "execution_count": 8,
   "metadata": {},
   "outputs": [
    {
     "name": "stdout",
     "output_type": "stream",
     "text": [
      "Cov_PriorLoWHiWBinByBin\n"
     ]
    }
   ],
   "source": [
    "CovName = f'Cov_PriorLoWHiWBinByBin'\n",
    "\n",
    "print(CovName)"
   ]
  },
  {
   "cell_type": "code",
   "execution_count": 9,
   "metadata": {},
   "outputs": [],
   "source": [
    "import ROOT\n",
    "\n",
    "OutputFileName = f'{CovName}.root'\n",
    "f_out = ROOT.TFile(f'{WD}/Configs_ParameterSet/BackgroundFit/{OutputFileName}', 'RECREATE')\n",
    "\n",
    "NBins = len(OneSigErrors)\n",
    "\n",
    "h_Cov_TMat = ROOT.TMatrixDSym(NBins)\n",
    "\n",
    "for i in range(NBins):\n",
    "    for j in range(NBins):\n",
    "        if i==j:\n",
    "            h_Cov_TMat[i][j] = OneSigErrors[i]*OneSigErrors[i]\n",
    "        else:\n",
    "            h_Cov_TMat[i][j] = 0\n",
    "\n",
    "\n",
    "\n",
    "h_Cov_TMat.SetTol(1E-20)\n",
    "\n",
    "h_Cov_TMat.Write(f'{CovName}')\n",
    "\n",
    "f_out.cd()\n",
    "f_out.Close()"
   ]
  }
 ],
 "metadata": {
  "kernelspec": {
   "display_name": "Python 3",
   "language": "python",
   "name": "python3"
  },
  "language_info": {
   "codemirror_mode": {
    "name": "ipython",
    "version": 3
   },
   "file_extension": ".py",
   "mimetype": "text/x-python",
   "name": "python",
   "nbconvert_exporter": "python",
   "pygments_lexer": "ipython3",
   "version": "3.9.6"
  }
 },
 "nbformat": 4,
 "nbformat_minor": 2
}
