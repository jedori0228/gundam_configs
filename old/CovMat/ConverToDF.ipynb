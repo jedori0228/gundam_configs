{
 "cells": [
  {
   "cell_type": "markdown",
   "metadata": {},
   "source": [
    "# Converting input rootfiles into DataFrame"
   ]
  },
  {
   "cell_type": "code",
   "execution_count": 1,
   "metadata": {},
   "outputs": [],
   "source": [
    "import pandas as pd\n",
    "import numpy as np\n",
    "import matplotlib.pyplot as plt\n",
    "import uproot\n",
    "import awkward as ak"
   ]
  },
  {
   "cell_type": "code",
   "execution_count": 2,
   "metadata": {},
   "outputs": [],
   "source": [
    "PWD = '${GUNDAM_INPUTS_DIR}/CovMat'"
   ]
  },
  {
   "cell_type": "markdown",
   "metadata": {},
   "source": [
    "## Configurations (For MakeTree)"
   ]
  },
  {
   "cell_type": "code",
   "execution_count": 3,
   "metadata": {},
   "outputs": [],
   "source": [
    "TreeMakerFuncName = 'MakeFSICovTree'\n",
    "\n",
    "MCSampleName = 'NuMI_MC_Nu_Phase2_2023ANuMIReproc_CAFTypeCommonRemerge_ReNuSyst11Aug24'\n",
    "MCSampleName = 'NuMI_MC_Nu_Phase2_2023ANuMIReproc_CAFTypeCommonRemerge_ReNuSyst11Oct24'\n",
    "\n",
    "InputBaseDir = f'{PWD}/inputfiles'\n",
    "InputFileName = f'{TreeMakerFuncName}_{MCSampleName}.root'\n",
    "InputFilePath = f'{InputBaseDir}/{InputFileName}'\n",
    "\n",
    "TreeName = 'AllSamples_NoCut/trueEvents'\n",
    "FriendTreeNames = [\n",
    "    'AllSamples_NoCut/trueEvents_NSigmas',\n",
    "    'AllSamples_NoCut/trueEvents_NUniverses',\n",
    "]\n",
    "\n",
    "# Output filename\n",
    "OutputName = 'dfs_%s.pkl'%(TreeMakerFuncName)"
   ]
  },
  {
   "cell_type": "markdown",
   "metadata": {},
   "source": [
    "##  MC input tree"
   ]
  },
  {
   "cell_type": "code",
   "execution_count": 4,
   "metadata": {},
   "outputs": [],
   "source": [
    "with uproot.open(InputFilePath) as file:\n",
    "\n",
    "    # Reco Tree\n",
    "    Branches = []\n",
    "    for br in file[TreeName].branches:\n",
    "        Branches.append(br.name)\n",
    "    df = file[TreeName].arrays(Branches, library='pd')\n",
    "\n",
    "    for FriendTreeName in FriendTreeNames:\n",
    "        FriendBranches = []\n",
    "        for br in file[FriendTreeName].branches:\n",
    "            FriendBranches.append(br.name)\n",
    "        df_Friend = file[FriendTreeName].arrays(FriendBranches, library='pd')\n",
    "\n",
    "        # Merge df_MC_Friend into DFs[MCSampleAlias]\n",
    "        df = pd.concat([df, df_Friend], axis=1)\n",
    "        \n",
    "        # Delete df_MC_Friend from memory\n",
    "        del df_Friend\n",
    "\n"
   ]
  },
  {
   "cell_type": "markdown",
   "metadata": {},
   "source": [
    "## Export"
   ]
  },
  {
   "cell_type": "code",
   "execution_count": 5,
   "metadata": {},
   "outputs": [],
   "source": [
    "import pickle\n",
    "import os\n",
    "\n",
    "# Export DataFrame and attributes to a single pickle file\n",
    "with open('%s/%s'%(InputBaseDir, OutputName), 'wb') as f:\n",
    "    pickle.dump(\n",
    "        {\n",
    "            'df': df,\n",
    "        },\n",
    "        f\n",
    "    )"
   ]
  }
 ],
 "metadata": {
  "kernelspec": {
   "display_name": "Python 3",
   "language": "python",
   "name": "python3"
  },
  "language_info": {
   "codemirror_mode": {
    "name": "ipython",
    "version": 3
   },
   "file_extension": ".py",
   "mimetype": "text/x-python",
   "name": "python",
   "nbconvert_exporter": "python",
   "pygments_lexer": "ipython3",
   "version": "3.9.6"
  }
 },
 "nbformat": 4,
 "nbformat_minor": 2
}
